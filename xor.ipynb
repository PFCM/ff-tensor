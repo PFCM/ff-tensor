{
 "cells": [
  {
   "cell_type": "code",
   "execution_count": 1,
   "metadata": {
    "collapsed": true
   },
   "outputs": [],
   "source": [
    "%matplotlib inline\n",
    "import numpy as np\n",
    "import matplotlib.pyplot as plt\n",
    "\n",
    "import tensorflow as tf\n",
    "\n",
    "import mrnn"
   ]
  },
  {
   "cell_type": "markdown",
   "metadata": {},
   "source": [
    "## Using quadratic tensor forms to solve problems\n",
    "\n",
    "Such as XOR.\n",
    "\n",
    "First, what is even the problem?\n",
    "\n",
    "C = A XOR B has truth table\n",
    "\n",
    "| A | B | C |\n",
    "|---|---|---|\n",
    "| T | T | F |\n",
    "| T | F | T |\n",
    "| F | T | T |\n",
    "| F | F | F |\n",
    "\n",
    "which, if we assign numeric values, is not linearly separable."
   ]
  },
  {
   "cell_type": "code",
   "execution_count": 2,
   "metadata": {
    "collapsed": false
   },
   "outputs": [
    {
     "data": {
      "text/plain": [
       "<matplotlib.collections.PathCollection at 0x10f054358>"
      ]
     },
     "execution_count": 2,
     "metadata": {},
     "output_type": "execute_result"
    },
    {
     "data": {
      "image/png": "[encoded data removed]",
      "text/plain": [
       "<matplotlib.figure.Figure at 0x10f0a99e8>"
      ]
     },
     "metadata": {},
     "output_type": "display_data"
    }
   ],
   "source": [
    "xor_inputs = np.array([[1., 1.],\n",
    "                       [1., 0.],\n",
    "                       [0., 1.],\n",
    "                       [0., 0.]])\n",
    "xor_targets = np.array([0., 1., 1., 0.])\n",
    "\n",
    "plt.scatter(xor_inputs[:,0], xor_inputs[:,1], \n",
    "            c=[str(val) for val in xor_targets],\n",
    "            cmap='gray')"
   ]
  },
  {
   "cell_type": "markdown",
   "metadata": {},
   "source": [
    "With a normal feedforward net, we can't learn this. We can if we incorporate some amount of pairwise information."
   ]
  },
  {
   "cell_type": "code",
   "execution_count": 3,
   "metadata": {
    "collapsed": true
   },
   "outputs": [],
   "source": [
    "def affine(input_var, new_size, name='affine'):\n",
    "    \"\"\"get weights and bias, return transformed variable\"\"\"\n",
    "    with tf.variable_scope(name):\n",
    "        old_size = input_var.get_shape()[1].value\n",
    "        weights = tf.get_variable('weights', shape=[old_size, new_size])\n",
    "        bias = tf.get_variable('bias', shape=[new_size])\n",
    "        return tf.nn.bias_add(tf.matmul(input_var, weights), bias)\n",
    "\n",
    "def quadratic(input_var, output_size, rank, name='tensor'):\n",
    "    \"\"\"Get tensor and biases etc.\"\"\"\n",
    "    with tf.variable_scope(name):\n",
    "        input_size = input_var.get_shape()[1].value\n",
    "        tensor = mrnn.get_cp_tensor([input_size, output_size, input_size],\n",
    "                                    rank, 'tensor_weights')\n",
    "        weights = tf.get_variable('weights', shape=[input_size, output_size])\n",
    "        bias = tf.get_variable('bias', shape=[output_size])\n",
    "\n",
    "        result = mrnn.bilinear_product_cp(input_var, tensor, input_var)\n",
    "\n",
    "\n",
    "        return result + tf.matmul(input_var, weights) + bias\n",
    "\n",
    "def get_loss(net_out, target):\n",
    "    return tf.reduce_mean(\n",
    "        tf.nn.sigmoid_cross_entropy_with_logits(net_out, target))\n",
    "\n",
    "def get_train_op(loss, learning_rate):\n",
    "    return tf.train.GradientDescentOptimizer(learning_rate).minimize(loss)"
   ]
  },
  {
   "cell_type": "code",
   "execution_count": 9,
   "metadata": {
    "collapsed": false,
    "scrolled": true
   },
   "outputs": [],
   "source": [
    "tf.reset_default_graph()\n",
    "\n",
    "input_var = tf.constant(xor_inputs, dtype=tf.float32)\n",
    "target_var = tf.constant(xor_targets, dtype=tf.float32)\n",
    "\n",
    "with tf.variable_scope('classic'):\n",
    "    classic_out = affine(input_var, 1, 'input')\n",
    "    classic_out = tf.squeeze(classic_out)\n",
    "with tf.variable_scope('mlp'):\n",
    "    mlp_out = affine(tf.nn.sigmoid(affine(input_var, 4, 'input')), 1, 'output')\n",
    "    mlp_out = tf.squeeze(mlp_out)\n",
    "with tf.variable_scope('tensor'):\n",
    "    tensor_out = quadratic(input_var, 1, 1, 'input')\n",
    "    tensor_out = tf.squeeze(tensor_out)\n",
    "\n",
    "classic_loss = get_loss(classic_out, target_var)\n",
    "mlp_loss = get_loss(mlp_out, target_var)\n",
    "tensor_loss = get_loss(tensor_out, target_var)\n",
    "\n",
    "classic_train = get_train_op(classic_loss, 0.5)\n",
    "mlp_train = get_train_op(mlp_loss, 0.5)\n",
    "tensor_train = get_train_op(tensor_loss, 0.5)\n",
    "train_op = tf.group(classic_train, mlp_train, tensor_train)\n",
    "\n",
    "runs = []"
   ]
  },
  {
   "cell_type": "code",
   "execution_count": 22,
   "metadata": {
    "collapsed": false
   },
   "outputs": [
    {
     "name": "stdout",
     "output_type": "stream",
     "text": [
      "\n",
      "Run 0\n",
      "classic: 0.6931471824645996, mlp: 0.04282071813941002, tensor: 0.0021924597676843405\n",
      "Run 1\n",
      "classic: 0.6931471824645996, mlp: 0.05011961609125137, tensor: 0.0025280872359871864\n",
      "Run 2\n",
      "classic: 0.6931471824645996, mlp: 0.029187675565481186, tensor: 0.002347770845517516\n",
      "Run 3\n",
      "classic: 0.6931471824645996, mlp: 0.042603492736816406, tensor: 0.002275984501466155\n",
      "Run 4\n",
      "classic: 0.6931471824645996, mlp: 0.04767608642578125, tensor: 0.0023214465472847223\n",
      "Run 5\n",
      "classic: 0.6931471824645996, mlp: 0.0986846312880516, tensor: 0.002700681798160076\n",
      "Run 6\n",
      "classic: 0.6931471824645996, mlp: 0.2009737640619278, tensor: 0.0022695709485560656\n",
      "Run 7\n",
      "classic: 0.6931471824645996, mlp: 0.08484002202749252, tensor: 0.0022368323989212513\n",
      "Run 8\n",
      "classic: 0.6931471824645996, mlp: 0.03029170259833336, tensor: 0.002233280334621668\n",
      "Run 9\n",
      "classic: 0.6931471824645996, mlp: 0.0546279214322567, tensor: 0.0021892462391406298\n",
      "Run 10\n",
      "classic: 0.6931471824645996, mlp: 0.07682646065950394, tensor: 0.0022726531606167555\n",
      "Run 11\n",
      "classic: 0.6931471824645996, mlp: 0.03287895768880844, tensor: 0.0021664381492882967\n",
      "Run 12\n",
      "classic: 0.6931471824645996, mlp: 0.03874275088310242, tensor: 0.0022067104000598192\n",
      "Run 13\n",
      "classic: 0.6931471824645996, mlp: 0.04703623428940773, tensor: 0.00225514336489141\n",
      "Run 14\n",
      "classic: 0.6931471824645996, mlp: 0.04098775237798691, tensor: 0.0023156895767897367\n",
      "Run 15\n",
      "classic: 0.6931471824645996, mlp: 0.02686223015189171, tensor: 0.0021676714532077312\n",
      "Run 16\n",
      "classic: 0.6931471824645996, mlp: 0.037129975855350494, tensor: 0.002510427962988615\n",
      "Run 17\n",
      "classic: 0.6931471824645996, mlp: 0.042834971100091934, tensor: 0.002256338717415929\n",
      "Run 18\n",
      "classic: 0.6931471824645996, mlp: 0.04802621528506279, tensor: 0.00239334674552083\n",
      "Run 19\n",
      "classic: 0.6931471824645996, mlp: 0.1587253361940384, tensor: 0.0022893520072102547\n",
      "Run 20\n",
      "classic: 0.6931471824645996, mlp: 0.06703242659568787, tensor: 0.002295797225087881\n",
      "Run 21\n",
      "classic: 0.6931471824645996, mlp: 0.052907031029462814, tensor: 0.0023058047518134117\n",
      "Run 22\n",
      "classic: 0.6931471824645996, mlp: 0.038438133895397186, tensor: 0.002173858927562833\n",
      "Run 23\n",
      "classic: 0.6931471824645996, mlp: 0.06122652441263199, tensor: 0.0022421798203140497\n",
      "Run 24\n",
      "classic: 0.6931471824645996, mlp: 0.04136056452989578, tensor: 0.002163839992135763\n",
      "Run 25\n",
      "classic: 0.6931471824645996, mlp: 0.08147543668746948, tensor: 0.002320545492693782\n",
      "Run 26\n",
      "classic: 0.6931471824645996, mlp: 0.046413321048021317, tensor: 0.002241655485704541\n",
      "Run 27\n",
      "classic: 0.6931471824645996, mlp: 0.16494710743427277, tensor: 0.0022952628787606955\n",
      "Run 28\n",
      "classic: 0.6931471824645996, mlp: 0.03214379400014877, tensor: 0.002307649701833725\n",
      "Run 29\n",
      "classic: 0.6931471824645996, mlp: 0.06164778023958206, tensor: 0.002213560976088047\n",
      "Run 30\n",
      "classic: 0.6931471824645996, mlp: 0.04405279457569122, tensor: 0.002286514500156045\n",
      "Run 31\n",
      "classic: 0.6931471824645996, mlp: 0.029774868860840797, tensor: 0.0022695111110806465\n",
      "Run 32\n",
      "classic: 0.6931471824645996, mlp: 0.16112786531448364, tensor: 0.0022334628738462925\n",
      "Run 33\n",
      "classic: 0.6931471824645996, mlp: 0.04948053136467934, tensor: 0.002216438530012965\n",
      "Run 34\n",
      "classic: 0.6931471824645996, mlp: 0.0436118021607399, tensor: 0.0024780714884400368\n",
      "Run 35\n",
      "classic: 0.6931471824645996, mlp: 0.038244061172008514, tensor: 0.002287748269736767\n",
      "Run 36\n",
      "classic: 0.6931471824645996, mlp: 0.1547466218471527, tensor: 0.002327295020222664\n",
      "Run 37\n",
      "classic: 0.6931471824645996, mlp: 0.03730209171772003, tensor: 0.002350121969357133\n",
      "Run 38\n",
      "classic: 0.6931471824645996, mlp: 0.4215761721134186, tensor: 0.002256361534819007\n",
      "Run 39\n",
      "classic: 0.6931471824645996, mlp: 0.07157420367002487, tensor: 0.0022974503226578236\n",
      "Run 40\n",
      "classic: 0.6931471824645996, mlp: 0.03606605529785156, tensor: 0.0022722622379660606\n",
      "Run 41\n",
      "classic: 0.6931471824645996, mlp: 0.08336412161588669, tensor: 0.0022943508811295033\n",
      "Run 42\n",
      "classic: 0.6931471824645996, mlp: 0.044482357800006866, tensor: 0.0022733930964022875\n",
      "Run 43\n",
      "classic: 0.6931471824645996, mlp: 0.060297779738903046, tensor: 0.0021923058666288853\n",
      "Run 44\n",
      "classic: 0.6931471824645996, mlp: 0.04978827387094498, tensor: 0.002287575975060463\n",
      "Run 45\n",
      "classic: 0.6931471824645996, mlp: 0.38082143664360046, tensor: 0.0021439618431031704\n",
      "Run 46\n",
      "classic: 0.6931471824645996, mlp: 0.06718958914279938, tensor: 0.0022360244765877724\n",
      "Run 47\n",
      "classic: 0.6931471824645996, mlp: 0.05949847400188446, tensor: 0.0022734191734343767\n",
      "Run 48\n",
      "classic: 0.6931471824645996, mlp: 0.09613806009292603, tensor: 0.002429254585877061\n",
      "Run 49\n",
      "classic: 0.6931471824645996, mlp: 0.0567467100918293, tensor: 0.0022160266526043415"
     ]
    }
   ],
   "source": [
    "NUM_EPOCHS = 1000\n",
    "\n",
    "for run in range(50):\n",
    "    losses = {'perceptron': [], \n",
    "              'mlp': [], \n",
    "              'tensor': []}\n",
    "\n",
    "    sess = tf.Session()\n",
    "    sess.run(tf.initialize_all_variables())\n",
    "    print('\\nRun {}'.format(run))\n",
    "    for i in range(NUM_EPOCHS):\n",
    "        c_loss, m_loss, t_loss, _ = sess.run([classic_loss,\n",
    "                                      mlp_loss,\n",
    "                                      tensor_loss,\n",
    "                                      train_op])\n",
    "        if (i+1) % 10 == 0:\n",
    "            print('\\rclassic: {}, mlp: {}, tensor: {}'.format(c_loss, m_loss, t_loss), end='')\n",
    "        losses['perceptron'].append(c_loss)\n",
    "        losses['mlp'].append(m_loss)\n",
    "        losses['tensor'].append(t_loss)\n",
    "    runs.append(losses)"
   ]
  },
  {
   "cell_type": "code",
   "execution_count": 26,
   "metadata": {
    "collapsed": false
   },
   "outputs": [
    {
     "data": {
      "text/plain": [
       "<matplotlib.text.Text at 0x10fa363c8>"
      ]
     },
     "execution_count": 26,
     "metadata": {},
     "output_type": "execute_result"
    },
    {
     "data": {
      "image/png": "[encoded data removed]",
      "text/plain": [
       "<matplotlib.figure.Figure at 0x10f90a978>"
      ]
     },
     "metadata": {},
     "output_type": "display_data"
    }
   ],
   "source": [
    "def plot_min_max(data, key, color='b'):\n",
    "    x = np.arange(len(data[0][key]))\n",
    "    np_data = np.array([run[key] for run in data])\n",
    "    \n",
    "    plt.fill_between(x, np_data.min(axis=0), np_data.max(axis=0), alpha=0.25, label=key, color=color)\n",
    "    plt.plot(x, np_data.mean(axis=0), color=color)\n",
    "\n",
    "\n",
    "# x = np.arange(len(runs['0'][0]))\n",
    "# plt.fill_between(x, runs['0'][1], runs['3'][1], alpha=0.5)\n",
    "# plt.plot(x, runs['0'][0])\n",
    "# plt.plot(x, runs['0'][2])\n",
    "plt.figure(figsize=(8,6))\n",
    "plot_min_max(runs, 'mlp', 'r')\n",
    "plot_min_max(runs, 'perceptron', 'g')\n",
    "plot_min_max(runs, 'tensor', 'b')\n",
    "plt.legend()\n",
    "plt.title('XOR Training loss by architecture')\n",
    "plt.xlabel('Update')\n",
    "plt.ylabel('Cross Entropy')"
   ]
  },
  {
   "cell_type": "markdown",
   "metadata": {},
   "source": [
    "It might be nice to have a look at the decision boundaries, to see how the tensor guy is nonlinear.\n",
    "\n",
    "We will do this just by sampling a fairly dense grid and pushing it through all the models."
   ]
  },
  {
   "cell_type": "markdown",
   "metadata": {
    "collapsed": true
   },
   "source": [
    "We also want more of a conceptual XOR, some kind of occasion where we want to be able to tell if pairs of features occur with a similar \"one or the other but not both\" structure. "
   ]
  }
 ],
 "metadata": {
  "kernelspec": {
   "display_name": "Python 3",
   "language": "python",
   "name": "python3"
  },
  "language_info": {
   "codemirror_mode": {
    "name": "ipython",
    "version": 3
   },
   "file_extension": ".py",
   "mimetype": "text/x-python",
   "name": "python",
   "nbconvert_exporter": "python",
   "pygments_lexer": "ipython3",
   "version": "3.5.0"
  }
 },
 "nbformat": 4,
 "nbformat_minor": 0
}
