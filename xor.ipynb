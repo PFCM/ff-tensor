{
 "cells": [
  {
   "cell_type": "code",
   "execution_count": 1,
   "metadata": {
    "collapsed": true
   },
   "outputs": [],
   "source": [
    "%matplotlib inline\n",
    "import numpy as np\n",
    "import matplotlib.pyplot as plt\n",
    "\n",
    "import tensorflow as tf\n",
    "\n",
    "import mrnn"
   ]
  },
  {
   "cell_type": "markdown",
   "metadata": {},
   "source": [
    "## Using quadratic tensor forms to solve problems\n",
    "\n",
    "Such as XOR.\n",
    "\n",
    "First, what is even the problem?\n",
    "\n",
    "C = A XOR B has truth table\n",
    "\n",
    "| A | B | C |\n",
    "|---|---|---|\n",
    "| T | T | F |\n",
    "| T | F | T |\n",
    "| F | T | T |\n",
    "| F | F | F |\n",
    "\n",
    "which, if we assign numeric values, is not linearly separable."
   ]
  },
  {
   "cell_type": "code",
   "execution_count": 2,
   "metadata": {
    "collapsed": false
   },
   "outputs": [
    {
     "data": {
      "text/plain": [
       "<matplotlib.collections.PathCollection at 0x10bf580f0>"
      ]
     },
     "execution_count": 2,
     "metadata": {},
     "output_type": "execute_result"
    },
    {
     "data": {
      "image/png": "[encoded data removed]",
      "text/plain": [
       "<matplotlib.figure.Figure at 0x10bf1fcf8>"
      ]
     },
     "metadata": {},
     "output_type": "display_data"
    }
   ],
   "source": [
    "xor_inputs = np.array([[1., 1.],\n",
    "                       [1., 0.],\n",
    "                       [0., 1.],\n",
    "                       [0., 0.]])\n",
    "xor_targets = np.array([0., 1., 1., 0.])\n",
    "\n",
    "plt.scatter(xor_inputs[:,0], xor_inputs[:,1], \n",
    "            c=[str(val) for val in xor_targets],\n",
    "            cmap='gray')"
   ]
  },
  {
   "cell_type": "markdown",
   "metadata": {},
   "source": [
    "With a normal feedforward net, we can't learn this. We can if we incorporate some amount of pairwise information."
   ]
  },
  {
   "cell_type": "code",
   "execution_count": 52,
   "metadata": {
    "collapsed": true
   },
   "outputs": [],
   "source": [
    "def affine(input_var, new_size, name='affine'):\n",
    "    \"\"\"get weights and bias, return transformed variable\"\"\"\n",
    "    with tf.variable_scope(name):\n",
    "        old_size = input_var.get_shape()[1].value\n",
    "        weights = tf.get_variable('weights', shape=[old_size, new_size])\n",
    "        bias = tf.get_variable('bias', shape=[new_size])\n",
    "        return tf.nn.bias_add(tf.matmul(input_var, weights), bias)\n",
    "\n",
    "def quadratic(input_var, output_size, rank, name='tensor'):\n",
    "    \"\"\"Get tensor and biases etc.\"\"\"\n",
    "    with tf.variable_scope(name):\n",
    "        input_size = input_var.get_shape()[1].value\n",
    "        tensor = mrnn.get_cp_tensor([input_size, output_size, input_size],\n",
    "                                    rank, 'tensor_weights')\n",
    "        weights = tf.get_variable('weights', shape=[input_size, output_size])\n",
    "        bias = tf.get_variable('bias', shape=[output_size])\n",
    "\n",
    "        result = mrnn.bilinear_product_cp(input_var, tensor, input_var)\n",
    "\n",
    "\n",
    "        return result + tf.matmul(input_var, weights) + bias\n",
    "\n",
    "def get_loss(net_out, target):\n",
    "    return tf.reduce_mean(\n",
    "        tf.nn.sigmoid_cross_entropy_with_logits(net_out, target))\n",
    "\n",
    "def get_train_op(loss, learning_rate):\n",
    "    return tf.train.GradientDescentOptimizer(learning_rate).minimize(loss)"
   ]
  },
  {
   "cell_type": "code",
   "execution_count": 77,
   "metadata": {
    "collapsed": false,
    "scrolled": true
   },
   "outputs": [],
   "source": [
    "tf.reset_default_graph()\n",
    "\n",
    "input_var = tf.constant(xor_inputs, dtype=tf.float32)\n",
    "target_var = tf.constant(xor_targets, dtype=tf.float32)\n",
    "\n",
    "with tf.variable_scope('classic'):\n",
    "    classic_out = affine(input_var, 1, 'input')\n",
    "    classic_out = tf.squeeze(classic_out)\n",
    "with tf.variable_scope('mlp'):\n",
    "    mlp_out = affine(tf.nn.relu(affine(input_var, 4, 'input')), 1, 'output')\n",
    "    mlp_out = tf.squeeze(mlp_out)\n",
    "with tf.variable_scope('tensor'):\n",
    "    tensor_out = quadratic(input_var, 1, 1, 'input')\n",
    "    tensor_out = tf.squeeze(tensor_out)\n",
    "\n",
    "classic_loss = get_loss(classic_out, target_var)\n",
    "mlp_loss = get_loss(mlp_out, target_var)\n",
    "tensor_loss = get_loss(tensor_out, target_var)\n",
    "\n",
    "classic_train = get_train_op(classic_loss, 0.5)\n",
    "mlp_train = get_train_op(mlp_loss, 0.5)\n",
    "tensor_train = get_train_op(tensor_loss, 0.5)\n",
    "train_op = tf.group(classic_train, mlp_train, tensor_train)"
   ]
  },
  {
   "cell_type": "code",
   "execution_count": 94,
   "metadata": {
    "collapsed": false
   },
   "outputs": [
    {
     "name": "stdout",
     "output_type": "stream",
     "text": [
      "classic: 0.6931471824645996, mlp: 0.0034044282510876656, tensor: 0.002397899515926838"
     ]
    }
   ],
   "source": [
    "NUM_EPOCHS = 1000\n",
    "losses = [[], [], []]\n",
    "\n",
    "sess = tf.Session()\n",
    "sess.run(tf.initialize_all_variables())\n",
    "\n",
    "for i in range(NUM_EPOCHS):\n",
    "    c_loss, m_loss, t_loss, _ = sess.run([classic_loss,\n",
    "                                  mlp_loss,\n",
    "                                  tensor_loss,\n",
    "                                  train_op])\n",
    "    if (i+1) % 10 == 0:\n",
    "        print('\\rclassic: {}, mlp: {}, tensor: {}'.format(c_loss, m_loss, t_loss), end='')\n",
    "    losses[0].append(c_loss)\n",
    "    losses[1].append(m_loss)\n",
    "    losses[2].append(t_loss)"
   ]
  },
  {
   "cell_type": "code",
   "execution_count": 95,
   "metadata": {
    "collapsed": false
   },
   "outputs": [
    {
     "data": {
      "text/plain": [
       "[<matplotlib.lines.Line2D at 0x10c694128>]"
      ]
     },
     "execution_count": 95,
     "metadata": {},
     "output_type": "execute_result"
    },
    {
     "data": {
      "image/png": "[encoded data removed]",
      "text/plain": [
       "<matplotlib.figure.Figure at 0x10cc76f98>"
      ]
     },
     "metadata": {},
     "output_type": "display_data"
    }
   ],
   "source": [
    "x = np.arange(len(losses[0]))\n",
    "plt.plot(x, losses[0])\n",
    "plt.plot(x, losses[1])\n",
    "plt.plot(x, losses[2])"
   ]
  },
  {
   "cell_type": "markdown",
   "metadata": {},
   "source": [
    "It might be nice to have a look at the decision boundaries, to see how the tensor guy is nonlinear.\n",
    "\n",
    "We will do this just by sampling a fairly dense grid and pushing it through both models."
   ]
  },
  {
   "cell_type": "code",
   "execution_count": null,
   "metadata": {
    "collapsed": true
   },
   "outputs": [],
   "source": []
  }
 ],
 "metadata": {
  "kernelspec": {
   "display_name": "Python 3",
   "language": "python",
   "name": "python3"
  },
  "language_info": {
   "codemirror_mode": {
    "name": "ipython",
    "version": 3
   },
   "file_extension": ".py",
   "mimetype": "text/x-python",
   "name": "python",
   "nbconvert_exporter": "python",
   "pygments_lexer": "ipython3",
   "version": "3.5.0"
  }
 },
 "nbformat": 4,
 "nbformat_minor": 0
}
