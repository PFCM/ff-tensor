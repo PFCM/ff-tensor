{
 "cells": [
  {
   "cell_type": "code",
   "execution_count": 1,
   "metadata": {
    "collapsed": true
   },
   "outputs": [],
   "source": [
    "%matplotlib inline\n",
    "import numpy as np\n",
    "import matplotlib.pyplot as plt\n",
    "\n",
    "import tensorflow as tf\n",
    "\n",
    "import mrnn"
   ]
  },
  {
   "cell_type": "markdown",
   "metadata": {},
   "source": [
    "## Using quadratic tensor forms to solve problems\n",
    "\n",
    "Such as XOR.\n",
    "\n",
    "First, what is even the problem?\n",
    "\n",
    "C = A XOR B has truth table\n",
    "\n",
    "| A | B | C |\n",
    "|---|---|---|\n",
    "| T | T | F |\n",
    "| T | F | T |\n",
    "| F | T | T |\n",
    "| F | F | F |\n",
    "\n",
    "which, if we assign numeric values, is not linearly separable."
   ]
  },
  {
   "cell_type": "code",
   "execution_count": 5,
   "metadata": {
    "collapsed": false
   },
   "outputs": [
    {
     "data": {
      "text/plain": [
       "<matplotlib.collections.PathCollection at 0x7f3c880f5d30>"
      ]
     },
     "execution_count": 5,
     "metadata": {},
     "output_type": "execute_result"
    },
    {
     "data": {
      "image/png": "[encoded data removed]",
      "text/plain": [
       "<matplotlib.figure.Figure at 0x7f3c881249e8>"
      ]
     },
     "metadata": {},
     "output_type": "display_data"
    }
   ],
   "source": [
    "xor_inputs = np.array([[1., 1.],\n",
    "                       [1., 0.],\n",
    "                       [0., 1.],\n",
    "                       [0., 0.]])\n",
    "xor_targets = np.array([0., 1., 1., 0.])\n",
    "\n",
    "plt.scatter(xor_inputs[:,0], xor_inputs[:,1], \n",
    "            c=[str(val) for val in xor_targets],\n",
    "            cmap='gray')"
   ]
  },
  {
   "cell_type": "markdown",
   "metadata": {},
   "source": [
    "With a normal feedforward net, we can't learn this. We can if we incorporate some amount of pairwise information."
   ]
  },
  {
   "cell_type": "code",
   "execution_count": 6,
   "metadata": {
    "collapsed": true
   },
   "outputs": [],
   "source": [
    "def affine(input_var, new_size):\n",
    "    \"\"\"get weights and bias, return transformed variable\"\"\"\n",
    "    old_size = input_var.get_shape()[1].value\n",
    "    weights = tf.get_variable('weights', shape=[old_size, new_size])\n",
    "    bias = tf.get_variable('bias', shape=[new_size])\n",
    "    return tf.nn.bias_add(tf.matmul(input_var, weights), bias)\n",
    "\n",
    "def quadratic(input_var, output_size, rank):\n",
    "    \"\"\"Get tensor and biases etc.\"\"\"\n",
    "    input_size = input_var.get_shape()[1].value\n",
    "    tensor = mrnn.get_cp_tensor([input_size, output_size, input_size],\n",
    "                                rank)\n",
    "    weights = tf.get_variable('weights', shape=[input_size, output_size])\n",
    "    bias = tf.get_variable('bias', shape=[new_size])\n",
    "    \n",
    "    result = mrnn.bilinear_product_cp(input_var, tensor, input_var)\n",
    "    \n",
    "    \n",
    "    return result + tf.matmul(input_var, weights) + bias "
   ]
  },
  {
   "cell_type": "code",
   "execution_count": null,
   "metadata": {
    "collapsed": true
   },
   "outputs": [],
   "source": []
  }
 ],
 "metadata": {
  "kernelspec": {
   "display_name": "Python 3",
   "language": "python",
   "name": "python3"
  },
  "language_info": {
   "codemirror_mode": {
    "name": "ipython",
    "version": 3
   },
   "file_extension": ".py",
   "mimetype": "text/x-python",
   "name": "python",
   "nbconvert_exporter": "python",
   "pygments_lexer": "ipython3",
   "version": "3.5.1"
  }
 },
 "nbformat": 4,
 "nbformat_minor": 0
}
